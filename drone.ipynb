{
 "cells": [
  {
   "cell_type": "code",
   "execution_count": null,
   "metadata": {},
   "outputs": [],
   "source": [
    "import pandas as pd\n",
    "import numpy as np\n",
    "from sklearn.preprocessing import StandardScaler\n",
    "from sklearn import cluster\n",
    "import matplotlib.pyplot as plt\n",
    "\n",
    "# Clustering demo for k-means with computer-generated appreciations data\n",
    "# Vesa Ollikainen 2018\n",
    "\n",
    "num_clusters = 3\n",
    "\n",
    "# read data (replace with your own path)\n",
    "df = pd.read_csv('drone_delivery_v1.csv', sep=';')\n",
    "df.head(10)"
   ]
  },
  {
   "cell_type": "code",
   "execution_count": null,
   "metadata": {},
   "outputs": [],
   "source": [
    "df.describe()"
   ]
  },
  {
   "cell_type": "code",
   "execution_count": null,
   "metadata": {
    "collapsed": true
   },
   "outputs": [],
   "source": [
    "df.drop('clientid',axis=1, inplace=True)\n"
   ]
  },
  {
   "cell_type": "code",
   "execution_count": null,
   "metadata": {
    "collapsed": true
   },
   "outputs": [],
   "source": [
    "# save column headings into a list as they will be lost\n",
    "colnames = df.columns.get_values()\n",
    "\n",
    "# normalize all variables to mean=0, sd=1\n",
    "#scaler = StandardScaler()\n",
    "#df_scaled = pd.DataFrame(scaler.fit_transform(df))\n",
    "#df_scaled.head()"
   ]
  },
  {
   "cell_type": "code",
   "execution_count": null,
   "metadata": {},
   "outputs": [],
   "source": [
    "kmeans = cluster.KMeans(n_clusters=num_clusters)\n",
    "kmeans.fit(df)\n",
    "\n",
    "centroids = kmeans.cluster_centers_\n",
    "print(centroids)"
   ]
  },
  {
   "cell_type": "code",
   "execution_count": null,
   "metadata": {},
   "outputs": [],
   "source": [
    "# create a pandas data frame with columns\n",
    "centroids_df = pd.DataFrame(centroids, columns=colnames)\n",
    "print(centroids_df)"
   ]
  },
  {
   "cell_type": "code",
   "execution_count": null,
   "metadata": {},
   "outputs": [],
   "source": [
    "# visualize with matplotlib\n",
    "fig=plt.figure()\n",
    "ax = fig.add_subplot(111)\n",
    "cax = ax.matshow(centroids_df, vmin=0, vmax=1000)\n",
    "fig.colorbar(cax)\n",
    "ticks = np.arange(0,len(colnames),1)\n",
    "ax.set_xticks(ticks)\n",
    "#ax.set_yticks(ticks)\n",
    "ax.set_xticklabels(colnames)\n",
    "for tick in ax.get_xticklabels():\n",
    "    tick.set_rotation(90)\n",
    "#ax.set_yticklabels(cnames)\n",
    "plt.show()"
   ]
  },
  {
   "cell_type": "code",
   "execution_count": null,
   "metadata": {
    "collapsed": true
   },
   "outputs": [],
   "source": []
  }
 ],
 "metadata": {
  "kernelspec": {
   "display_name": "Python 3",
   "language": "python",
   "name": "python3"
  },
  "language_info": {
   "codemirror_mode": {
    "name": "ipython",
    "version": 3
   },
   "file_extension": ".py",
   "mimetype": "text/x-python",
   "name": "python",
   "nbconvert_exporter": "python",
   "pygments_lexer": "ipython3",
   "version": "3.6.3"
  }
 },
 "nbformat": 4,
 "nbformat_minor": 2
}
