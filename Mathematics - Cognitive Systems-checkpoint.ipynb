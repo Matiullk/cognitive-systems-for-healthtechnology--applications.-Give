{
 "cells": [
  {
   "cell_type": "markdown",
   "metadata": {},
   "source": [
    "# Python Exercises 1\n",
    "# 1."
   ]
  },
  {
   "cell_type": "code",
   "execution_count": 12,
   "metadata": {},
   "outputs": [
    {
     "name": "stdout",
     "output_type": "stream",
     "text": [
      "[[27]]\n"
     ]
    }
   ],
   "source": [
    "import numpy as np\n",
    "import matplotlib.pyplot as plt\n",
    "# Part a)\n",
    "m1 = np.array([[3,6]])\n",
    "m2 = np.array([[5],[2]])\n",
    "mRes = np.dot(m1,m2)\n",
    "print(aRes)"
   ]
  },
  {
   "cell_type": "code",
   "execution_count": 9,
   "metadata": {},
   "outputs": [
    {
     "name": "stdout",
     "output_type": "stream",
     "text": [
      "[[15 30]\n",
      " [ 6 12]]\n"
     ]
    }
   ],
   "source": [
    "# Part b)\n",
    "mRes = np.dot(m2,m1)\n",
    "print(mRes)"
   ]
  },
  {
   "cell_type": "code",
   "execution_count": 13,
   "metadata": {
    "collapsed": true
   },
   "outputs": [],
   "source": [
    "# Part c)\n",
    "# Cannot caluculate [2,1] * [2,1]"
   ]
  },
  {
   "cell_type": "code",
   "execution_count": 15,
   "metadata": {},
   "outputs": [
    {
     "name": "stdout",
     "output_type": "stream",
     "text": [
      "[[16]\n",
      " [42]]\n"
     ]
    }
   ],
   "source": [
    "# Part d)\n",
    "p1 = np.array([[1,2],[3,5]])\n",
    "p2 = np.array([[4],[6]])\n",
    "pRes = np.dot(p1,p2)\n",
    "print(pRes)"
   ]
  },
  {
   "cell_type": "code",
   "execution_count": 16,
   "metadata": {},
   "outputs": [
    {
     "name": "stdout",
     "output_type": "stream",
     "text": [
      "[[22 38]]\n"
     ]
    }
   ],
   "source": [
    "# Part e)\n",
    "q1 = np.array([[4,6]])\n",
    "rRes = np.dot(q1, p1)\n",
    "print(rRes)"
   ]
  },
  {
   "cell_type": "code",
   "execution_count": null,
   "metadata": {
    "collapsed": true
   },
   "outputs": [],
   "source": [
    "# Part f)\n",
    "sTrans = np.transpose(p2)\n",
    "sRes1 = np.dot(sTrans, p1)\n",
    "sRes = np.dot(sRes1, p2)\n",
    "\n",
    "# or\n",
    "\n",
    "testing = np.dot(np.dot(sTrans,p1), p2)\n",
    "print(testing)\n",
    "\n",
    "# testing = sRes"
   ]
  },
  {
   "cell_type": "markdown",
   "metadata": {},
   "source": [
    "# 2"
   ]
  },
  {
   "cell_type": "code",
   "execution_count": 36,
   "metadata": {},
   "outputs": [
    {
     "name": "stdout",
     "output_type": "stream",
     "text": [
      "[[1 0]\n",
      " [0 2]\n",
      " [3 0]]\n",
      "[[0 4]\n",
      " [0 5]\n",
      " [6 0]]\n"
     ]
    }
   ],
   "source": [
    "# a)\n",
    "A = np.array([[1,0],[0,2],[3,0]])\n",
    "B = np.array([[0,4],[0,5],[6,0]])\n",
    "print(A)\n",
    "print(B)\n",
    "# Not possible to calculate"
   ]
  },
  {
   "cell_type": "code",
   "execution_count": 37,
   "metadata": {},
   "outputs": [
    {
     "name": "stdout",
     "output_type": "stream",
     "text": [
      "[[1 4]\n",
      " [0 7]\n",
      " [9 0]]\n"
     ]
    }
   ],
   "source": [
    "# Part b)\n",
    "print(A + B)"
   ]
  },
  {
   "cell_type": "code",
   "execution_count": null,
   "metadata": {
    "collapsed": true
   },
   "outputs": [],
   "source": []
  }
 ],
 "metadata": {
  "kernelspec": {
   "display_name": "Python 3",
   "language": "python",
   "name": "python3"
  },
  "language_info": {
   "codemirror_mode": {
    "name": "ipython",
    "version": 3
   },
   "file_extension": ".py",
   "mimetype": "text/x-python",
   "name": "python",
   "nbconvert_exporter": "python",
   "pygments_lexer": "ipython3",
   "version": "3.6.3"
  }
 },
 "nbformat": 4,
 "nbformat_minor": 2
}
