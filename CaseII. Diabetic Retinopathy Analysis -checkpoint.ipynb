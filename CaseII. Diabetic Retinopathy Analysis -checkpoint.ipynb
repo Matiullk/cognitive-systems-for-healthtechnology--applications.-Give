{
 "cells": [
  {
   "cell_type": "markdown",
   "metadata": {},
   "source": [
    "# Case I: Coronary Heart Disease<br>\n",
    "MatiUllah Khan<br>\n",
    "Last edited: 02.02.2018 <br>\n",
    "Cognitive Systems for Health Technology Applications <br>\n",
    "Helsinki Metropolia University of Applied Sciences <br>"
   ]
  },
  {
   "cell_type": "markdown",
   "metadata": {},
   "source": [
    "# 1. Objectives\n",
    "Our obejectices emphasis on learning, preprocessing of the given data, furthermore predicting the people may have coronary heart disease."
   ]
  },
  {
   "cell_type": "markdown",
   "metadata": {},
   "source": [
    "# 2. Required libraries\n",
    "We include the necessary libraries for the pre-processing, and plotting of the given data."
   ]
  },
  {
   "cell_type": "code",
   "execution_count": 90,
   "metadata": {
    "collapsed": true
   },
   "outputs": [],
   "source": [
    "# Required libraries\n",
    "import numpy as np\n",
    "import matplotlib.pyplot as plt\n",
    "import pandas as pd\n",
    "from sklearn.utils import shuffle\n",
    "import keras\n",
    "\n",
    "import sklearn as sk\n",
    "from sklearn import preprocessing\n",
    "from sklearn.model_selection import train_test_split\n",
    "% matplotlib inline"
   ]
  },
  {
   "cell_type": "markdown",
   "metadata": {},
   "source": [
    "# 3. Data description and preprocessing\n",
    "\n",
    "1. Combining four different databases.\n",
    "2. Some databases like Switzerland and Long Beach datasets have many missing data values. \n",
    "3. Here replacing the missing data with mean values of the column.\n",
    "4. Better results achieved using only cleveland and hungarian dataset."
   ]
  },
  {
   "cell_type": "code",
   "execution_count": 91,
   "metadata": {
    "collapsed": true
   },
   "outputs": [],
   "source": [
    "colnames = ['age', 'sex', 'cp', 'trestbps', 'chol', 'fbs', 'restecg', 'thalach', 'exang', 'oldpeak', 'slope', 'ca', 'thal', 'diagnose']\n",
    "\n",
    "# Processed data\n",
    "# **************\n",
    "pCleveland = pd.read_csv('https://archive.ics.uci.edu/ml/machine-learning-databases/heart-disease/processed.cleveland.data', na_values='?', names=colnames)\n",
    "pHungarian = pd.read_csv('https://archive.ics.uci.edu/ml/machine-learning-databases/heart-disease/processed.hungarian.data', na_values='?', names=colnames)"
   ]
  },
  {
   "cell_type": "markdown",
   "metadata": {},
   "source": [
    "# Preprocessing steps:\n",
    "\n",
    "1. By combining datasets\n",
    "2. By replacing the missing values\n",
    "3. By separating the \"label\" from the data\n",
    "4. By scaling the data\n",
    "5. By dividing the data into training and validation i,e. testing data"
   ]
  },
  {
   "cell_type": "code",
   "execution_count": 92,
   "metadata": {},
   "outputs": [
    {
     "data": {
      "text/plain": [
       "((382, 13), (215, 13), (382,), (215,))"
      ]
     },
     "execution_count": 92,
     "metadata": {},
     "output_type": "execute_result"
    }
   ],
   "source": [
    "# Combining datasets\n",
    "# ******************\n",
    "datas = [pCleveland, pHungarian]\n",
    "data = pd.concat(datas)\n",
    "\n",
    "# Replace missing data with mean of the column\n",
    "# ********************************************\n",
    "data = data.where(~np.isnan(data), data.mean(), axis='columns')\n",
    "\n",
    "# Transfroming diagnosis colums to be true or false \n",
    "# *************************************************\n",
    "labels = (data['diagnose'] > 0).values\n",
    "\n",
    "# Dropping diagnosis column from the data\n",
    "# ********************************************\n",
    "data = data.drop(['diagnose'], axis=1)\n",
    "columns = ['age', 'sex', 'cp', 'trestbps', \n",
    "           'chol', 'fbs', 'restecg', 'thalach', \n",
    "           'exang', 'oldpeak', 'slope', 'ca', 'thal']\n",
    "data = data[columns].values\n",
    "\n",
    "# Scaling dataset\n",
    "# ***************\n",
    "min_max_scaler = preprocessing.MinMaxScaler()\n",
    "data_minmax = min_max_scaler.fit_transform(data)\n",
    "\n",
    "# Dividing data to train i.e.testing set\n",
    "# **************************************\n",
    "x_train, x_test, y_train, y_test = train_test_split(\n",
    "    data_minmax, labels, test_size=0.36)\n",
    "x_train.shape, x_test.shape, y_train.shape, y_test.shape"
   ]
  },
  {
   "cell_type": "markdown",
   "metadata": {},
   "source": [
    "# 4. Modeling and compilation\n",
    "\n",
    "1. To test the the model with multiple amount of hidden layers.\n",
    "2. Resulted in least overfitting with only 1 hidden layer.\n",
    "3. To test with different activation functions (in the first layer).\n",
    "4. Using 'relu' seems to work as \"the best\".\n",
    "5. Using other activation functions model usually gave the underfitting results."
   ]
  },
  {
   "cell_type": "code",
   "execution_count": 93,
   "metadata": {},
   "outputs": [
    {
     "name": "stdout",
     "output_type": "stream",
     "text": [
      "_________________________________________________________________\n",
      "Layer (type)                 Output Shape              Param #   \n",
      "=================================================================\n",
      "dense_15 (Dense)             (None, 64)                896       \n",
      "_________________________________________________________________\n",
      "dense_16 (Dense)             (None, 1)                 65        \n",
      "=================================================================\n",
      "Total params: 961\n",
      "Trainable params: 961\n",
      "Non-trainable params: 0\n",
      "_________________________________________________________________\n"
     ]
    }
   ],
   "source": [
    "model = keras.models.Sequential()\n",
    "model.add(keras.layers.Dense(64, input_shape=(13,), activation='relu'))\n",
    "model.add(keras.layers.Dense(1, activation='sigmoid'))\n",
    "model.compile(optimizer='rmsprop', loss='binary_crossentropy', metrics=['acc'])\n",
    "\n",
    "model.summary()"
   ]
  },
  {
   "cell_type": "markdown",
   "metadata": {},
   "source": [
    "\n",
    "# 5. Training and Validation\n",
    "\n",
    "1. Taking training batch_size = 100 batches gives best results  \n",
    "2. Number of epochs = 15 were enough to train the model\n",
    "3. Beyond this range the model started to overfit"
   ]
  },
  {
   "cell_type": "code",
   "execution_count": 94,
   "metadata": {
    "collapsed": true
   },
   "outputs": [],
   "source": [
    "hist = model.fit(x_train, y_train, epochs=100, batch_size=100, verbose = 0, validation_data=(x_test,y_test))"
   ]
  },
  {
   "cell_type": "code",
   "execution_count": 95,
   "metadata": {},
   "outputs": [
    {
     "data": {
      "image/png": "[encoded data removed]",
      "text/plain": [
       "<matplotlib.figure.Figure at 0x1b93e4a3320>"
      ]
     },
     "metadata": {},
     "output_type": "display_data"
    },
    {
     "data": {
      "image/png": "[encoded data removed]",
      "text/plain": [
       "<matplotlib.figure.Figure at 0x1b93e4d20b8>"
      ]
     },
     "metadata": {},
     "output_type": "display_data"
    },
    {
     "data": {
      "image/png": "[encoded data removed]",
      "text/plain": [
       "<matplotlib.figure.Figure at 0x1b93cde0c88>"
      ]
     },
     "metadata": {},
     "output_type": "display_data"
    }
   ],
   "source": [
    "# Plot the results\n",
    "acc = hist.history['acc']\n",
    "epochs = range(1, len(acc) + 1)\n",
    "acc = hist.history['acc']\n",
    "val_acc = hist.history['val_acc']\n",
    "loss = hist.history['loss']\n",
    "val_loss = hist.history['val_loss']\n",
    "\n",
    "# Accuracy plot\n",
    "plt.figure(figsize = (20, 5))\n",
    "plt.plot(epochs, acc, 'go', label='Training')\n",
    "plt.plot(epochs, val_acc, 'g', label = 'Validation')\n",
    "plt.xlabel('Epochs')\n",
    "plt.ylabel('Accuracy')\n",
    "plt.ylim([0, 1])\n",
    "plt.grid()\n",
    "plt.legend()\n",
    "plt.show()\n",
    "\n",
    "# Loss plot\n",
    "plt.figure(figsize = (20, 5))\n",
    "plt.plot(epochs, loss, 'ro', label='Training')\n",
    "plt.plot(epochs, val_loss, 'r', label = 'Validation')\n",
    "plt.xlabel('Epochs')\n",
    "plt.ylabel('Loss')\n",
    "plt.ylim([0.2, 0.8])\n",
    "plt.grid()\n",
    "plt.legend()\n",
    "plt.show()\n",
    "\n",
    "# Combined Accuracy and Loss plots\n",
    "plt.figure(figsize = (20, 5))\n",
    "plt.plot(epochs, loss, 'go', label='Training_loss')\n",
    "plt.plot(epochs, val_loss, 'g', label = 'Validation_loss')\n",
    "plt.plot(epochs, acc, 'ro', label='Training_acc')\n",
    "plt.plot(epochs, val_acc, 'r', label = 'Validation_acc')\n",
    "plt.ylim([0, 1])\n",
    "plt.grid()\n",
    "plt.legend()\n",
    "plt.show()"
   ]
  },
  {
   "cell_type": "markdown",
   "metadata": {},
   "source": [
    "# 6. Evaluation\n",
    "\n",
    "By choosing 20 epochs, testing with a a overfitted model can be avoid "
   ]
  },
  {
   "cell_type": "code",
   "execution_count": 112,
   "metadata": {},
   "outputs": [
    {
     "name": "stdout",
     "output_type": "stream",
     "text": [
      "110/110 [==============================] - 0s 55us/step\n",
      "[0.5600973015481775, 0.82727271318435669]\n"
     ]
    },
    {
     "data": {
      "text/plain": [
       "[0.5600973015481775, 0.82727271318435669]"
      ]
     },
     "execution_count": 112,
     "metadata": {},
     "output_type": "execute_result"
    }
   ],
   "source": [
    "model = keras.models.Sequential()\n",
    "model.add(keras.layers.Dense(64, input_shape=(13,), activation='relu'))\n",
    "model.add(keras.layers.Dense(1, activation='sigmoid'))\n",
    "model.compile(optimizer='rmsprop', loss='binary_crossentropy', metrics=['acc'])\n",
    "hist = model.fit(x_train, y_train, epochs=20, batch_size=100, verbose = 0, validation_data=(x_test,y_test))\n",
    "\n",
    "score = model.evaluate(x_test, y_test, batch_size=100)\n",
    "print(score)\n",
    "score"
   ]
  },
  {
   "cell_type": "markdown",
   "metadata": {},
   "source": [
    "#  7. Results and Discussion\n",
    "\n",
    "1. Accuracy nearly 80%, while best accuracy 83 % was achieved based on size of the datasets.\n",
    "2. With more datasets higher accuracy nearly 90% accuracy  can be achieved."
   ]
  },
  {
   "cell_type": "markdown",
   "metadata": {},
   "source": [
    "# 8. Conclusions\n",
    "\n",
    "Using Keras facilitates modeling and traning. Preprocessing data and missing data values is a challenging part."
   ]
  },
  {
   "cell_type": "code",
   "execution_count": 97,
   "metadata": {},
   "outputs": [
    {
     "name": "stdout",
     "output_type": "stream",
     "text": [
      "numpy: 1.12.1\n",
      "pandas: 0.22.0\n",
      "sklearn: 0.19.1\n",
      "keras: 2.1.2\n"
     ]
    }
   ],
   "source": [
    "# Check the versions\n",
    "print('numpy:', np.__version__)\n",
    "print('pandas:', pd.__version__)\n",
    "print('sklearn:', sk.__version__)\n",
    "print('keras:', keras.__version__)"
   ]
  },
  {
   "cell_type": "code",
   "execution_count": 98,
   "metadata": {
    "collapsed": true
   },
   "outputs": [],
   "source": [
    "# location of the dataset\n",
    "filename = 'http://archive.ics.uci.edu/ml/machine-learning-databases/heart-disease/processed.cleveland.data'\n",
    "\n",
    "# column names for the data\n",
    "colnames = ['age','sex','cp','tresbps','chol',\n",
    "            'fbs','restecg','thalach','exang',\n",
    "            'oldpeak','slope','ca','thal','num']\n",
    "\n",
    "# read data to data frame\n",
    "df = pd.read_csv(filename, \n",
    "                 names = colnames, \n",
    "                 na_values = '?')"
   ]
  },
  {
   "cell_type": "code",
   "execution_count": 99,
   "metadata": {},
   "outputs": [
    {
     "data": {
      "text/html": [
       "<div>\n",
       "<style scoped>\n",
       "    .dataframe tbody tr th:only-of-type {\n",
       "        vertical-align: middle;\n",
       "    }\n",
       "\n",
       "    .dataframe tbody tr th {\n",
       "        vertical-align: top;\n",
       "    }\n",
       "\n",
       "    .dataframe thead th {\n",
       "        text-align: right;\n",
       "    }\n",
       "</style>\n",
       "<table border=\"1\" class=\"dataframe\">\n",
       "  <thead>\n",
       "    <tr style=\"text-align: right;\">\n",
       "      <th></th>\n",
       "      <th>age</th>\n",
       "      <th>sex</th>\n",
       "      <th>cp</th>\n",
       "      <th>tresbps</th>\n",
       "      <th>chol</th>\n",
       "      <th>fbs</th>\n",
       "      <th>restecg</th>\n",
       "      <th>thalach</th>\n",
       "      <th>exang</th>\n",
       "      <th>oldpeak</th>\n",
       "      <th>slope</th>\n",
       "      <th>ca</th>\n",
       "      <th>thal</th>\n",
       "      <th>num</th>\n",
       "    </tr>\n",
       "  </thead>\n",
       "  <tbody>\n",
       "    <tr>\n",
       "      <th>count</th>\n",
       "      <td>303.000000</td>\n",
       "      <td>303.000000</td>\n",
       "      <td>303.000000</td>\n",
       "      <td>303.000000</td>\n",
       "      <td>303.000000</td>\n",
       "      <td>303.000000</td>\n",
       "      <td>303.000000</td>\n",
       "      <td>303.000000</td>\n",
       "      <td>303.000000</td>\n",
       "      <td>303.000000</td>\n",
       "      <td>303.000000</td>\n",
       "      <td>299.000000</td>\n",
       "      <td>301.000000</td>\n",
       "      <td>303.000000</td>\n",
       "    </tr>\n",
       "    <tr>\n",
       "      <th>mean</th>\n",
       "      <td>54.438944</td>\n",
       "      <td>0.679868</td>\n",
       "      <td>3.158416</td>\n",
       "      <td>131.689769</td>\n",
       "      <td>246.693069</td>\n",
       "      <td>0.148515</td>\n",
       "      <td>0.990099</td>\n",
       "      <td>149.607261</td>\n",
       "      <td>0.326733</td>\n",
       "      <td>1.039604</td>\n",
       "      <td>1.600660</td>\n",
       "      <td>0.672241</td>\n",
       "      <td>4.734219</td>\n",
       "      <td>0.937294</td>\n",
       "    </tr>\n",
       "    <tr>\n",
       "      <th>std</th>\n",
       "      <td>9.038662</td>\n",
       "      <td>0.467299</td>\n",
       "      <td>0.960126</td>\n",
       "      <td>17.599748</td>\n",
       "      <td>51.776918</td>\n",
       "      <td>0.356198</td>\n",
       "      <td>0.994971</td>\n",
       "      <td>22.875003</td>\n",
       "      <td>0.469794</td>\n",
       "      <td>1.161075</td>\n",
       "      <td>0.616226</td>\n",
       "      <td>0.937438</td>\n",
       "      <td>1.939706</td>\n",
       "      <td>1.228536</td>\n",
       "    </tr>\n",
       "    <tr>\n",
       "      <th>min</th>\n",
       "      <td>29.000000</td>\n",
       "      <td>0.000000</td>\n",
       "      <td>1.000000</td>\n",
       "      <td>94.000000</td>\n",
       "      <td>126.000000</td>\n",
       "      <td>0.000000</td>\n",
       "      <td>0.000000</td>\n",
       "      <td>71.000000</td>\n",
       "      <td>0.000000</td>\n",
       "      <td>0.000000</td>\n",
       "      <td>1.000000</td>\n",
       "      <td>0.000000</td>\n",
       "      <td>3.000000</td>\n",
       "      <td>0.000000</td>\n",
       "    </tr>\n",
       "    <tr>\n",
       "      <th>25%</th>\n",
       "      <td>48.000000</td>\n",
       "      <td>0.000000</td>\n",
       "      <td>3.000000</td>\n",
       "      <td>120.000000</td>\n",
       "      <td>211.000000</td>\n",
       "      <td>0.000000</td>\n",
       "      <td>0.000000</td>\n",
       "      <td>133.500000</td>\n",
       "      <td>0.000000</td>\n",
       "      <td>0.000000</td>\n",
       "      <td>1.000000</td>\n",
       "      <td>0.000000</td>\n",
       "      <td>3.000000</td>\n",
       "      <td>0.000000</td>\n",
       "    </tr>\n",
       "    <tr>\n",
       "      <th>50%</th>\n",
       "      <td>56.000000</td>\n",
       "      <td>1.000000</td>\n",
       "      <td>3.000000</td>\n",
       "      <td>130.000000</td>\n",
       "      <td>241.000000</td>\n",
       "      <td>0.000000</td>\n",
       "      <td>1.000000</td>\n",
       "      <td>153.000000</td>\n",
       "      <td>0.000000</td>\n",
       "      <td>0.800000</td>\n",
       "      <td>2.000000</td>\n",
       "      <td>0.000000</td>\n",
       "      <td>3.000000</td>\n",
       "      <td>0.000000</td>\n",
       "    </tr>\n",
       "    <tr>\n",
       "      <th>75%</th>\n",
       "      <td>61.000000</td>\n",
       "      <td>1.000000</td>\n",
       "      <td>4.000000</td>\n",
       "      <td>140.000000</td>\n",
       "      <td>275.000000</td>\n",
       "      <td>0.000000</td>\n",
       "      <td>2.000000</td>\n",
       "      <td>166.000000</td>\n",
       "      <td>1.000000</td>\n",
       "      <td>1.600000</td>\n",
       "      <td>2.000000</td>\n",
       "      <td>1.000000</td>\n",
       "      <td>7.000000</td>\n",
       "      <td>2.000000</td>\n",
       "    </tr>\n",
       "    <tr>\n",
       "      <th>max</th>\n",
       "      <td>77.000000</td>\n",
       "      <td>1.000000</td>\n",
       "      <td>4.000000</td>\n",
       "      <td>200.000000</td>\n",
       "      <td>564.000000</td>\n",
       "      <td>1.000000</td>\n",
       "      <td>2.000000</td>\n",
       "      <td>202.000000</td>\n",
       "      <td>1.000000</td>\n",
       "      <td>6.200000</td>\n",
       "      <td>3.000000</td>\n",
       "      <td>3.000000</td>\n",
       "      <td>7.000000</td>\n",
       "      <td>4.000000</td>\n",
       "    </tr>\n",
       "  </tbody>\n",
       "</table>\n",
       "</div>"
      ],
      "text/plain": [
       "              age         sex          cp     tresbps        chol         fbs  \\\n",
       "count  303.000000  303.000000  303.000000  303.000000  303.000000  303.000000   \n",
       "mean    54.438944    0.679868    3.158416  131.689769  246.693069    0.148515   \n",
       "std      9.038662    0.467299    0.960126   17.599748   51.776918    0.356198   \n",
       "min     29.000000    0.000000    1.000000   94.000000  126.000000    0.000000   \n",
       "25%     48.000000    0.000000    3.000000  120.000000  211.000000    0.000000   \n",
       "50%     56.000000    1.000000    3.000000  130.000000  241.000000    0.000000   \n",
       "75%     61.000000    1.000000    4.000000  140.000000  275.000000    0.000000   \n",
       "max     77.000000    1.000000    4.000000  200.000000  564.000000    1.000000   \n",
       "\n",
       "          restecg     thalach       exang     oldpeak       slope          ca  \\\n",
       "count  303.000000  303.000000  303.000000  303.000000  303.000000  299.000000   \n",
       "mean     0.990099  149.607261    0.326733    1.039604    1.600660    0.672241   \n",
       "std      0.994971   22.875003    0.469794    1.161075    0.616226    0.937438   \n",
       "min      0.000000   71.000000    0.000000    0.000000    1.000000    0.000000   \n",
       "25%      0.000000  133.500000    0.000000    0.000000    1.000000    0.000000   \n",
       "50%      1.000000  153.000000    0.000000    0.800000    2.000000    0.000000   \n",
       "75%      2.000000  166.000000    1.000000    1.600000    2.000000    1.000000   \n",
       "max      2.000000  202.000000    1.000000    6.200000    3.000000    3.000000   \n",
       "\n",
       "             thal         num  \n",
       "count  301.000000  303.000000  \n",
       "mean     4.734219    0.937294  \n",
       "std      1.939706    1.228536  \n",
       "min      3.000000    0.000000  \n",
       "25%      3.000000    0.000000  \n",
       "50%      3.000000    0.000000  \n",
       "75%      7.000000    2.000000  \n",
       "max      7.000000    4.000000  "
      ]
     },
     "execution_count": 99,
     "metadata": {},
     "output_type": "execute_result"
    }
   ],
   "source": [
    "# Calculate descriptive statistics\n",
    "df.describe()"
   ]
  },
  {
   "cell_type": "code",
   "execution_count": 100,
   "metadata": {},
   "outputs": [
    {
     "data": {
      "text/plain": [
       "age        0\n",
       "sex        0\n",
       "cp         0\n",
       "tresbps    0\n",
       "chol       0\n",
       "fbs        0\n",
       "restecg    0\n",
       "thalach    0\n",
       "exang      0\n",
       "oldpeak    0\n",
       "slope      0\n",
       "ca         4\n",
       "thal       2\n",
       "num        0\n",
       "dtype: int64"
      ]
     },
     "execution_count": 100,
     "metadata": {},
     "output_type": "execute_result"
    }
   ],
   "source": [
    "# Check how many missing values are in each column\n",
    "np.sum(np.isnan(df))"
   ]
  },
  {
   "cell_type": "code",
   "execution_count": 101,
   "metadata": {
    "collapsed": true
   },
   "outputs": [],
   "source": [
    "# Replace the missing values with column mean values\n",
    "df = df.where(~np.isnan(df), df.mean(), axis='columns')"
   ]
  },
  {
   "cell_type": "code",
   "execution_count": 102,
   "metadata": {
    "collapsed": true
   },
   "outputs": [],
   "source": [
    "# Calculate the labels:\n",
    "# 0 = healthy, 1 = disease\n",
    "labels = (df['num'] > 0).values"
   ]
  },
  {
   "cell_type": "code",
   "execution_count": 103,
   "metadata": {
    "collapsed": true
   },
   "outputs": [],
   "source": [
    "# Select the columns for training\n",
    "columns = ['age', 'sex', 'cp', 'tresbps', \n",
    "           'chol', 'fbs', 'restecg', 'thalach', \n",
    "           'exang', 'oldpeak', 'slope', 'ca', 'thal'] # Leaving out angiography data ==> , 'ca', 'thal']\n",
    "\n",
    "# Convert into numerical array (np.array)\n",
    "data = df[columns].values"
   ]
  },
  {
   "cell_type": "code",
   "execution_count": 104,
   "metadata": {},
   "outputs": [
    {
     "data": {
      "text/plain": [
       "(303, 13)"
      ]
     },
     "execution_count": 104,
     "metadata": {},
     "output_type": "execute_result"
    }
   ],
   "source": [
    "# Check the number of samples and attributes\n",
    "data.shape"
   ]
  },
  {
   "cell_type": "code",
   "execution_count": 105,
   "metadata": {},
   "outputs": [
    {
     "data": {
      "text/plain": [
       "array([[ 0.70833333,  1.        ,  0.        , ...,  1.        ,\n",
       "         0.        ,  0.75      ],\n",
       "       [ 0.79166667,  1.        ,  1.        , ...,  0.5       ,\n",
       "         1.        ,  0.        ],\n",
       "       [ 0.79166667,  1.        ,  1.        , ...,  0.5       ,\n",
       "         0.66666667,  1.        ],\n",
       "       ..., \n",
       "       [ 0.58333333,  1.        ,  1.        , ...,  0.5       ,\n",
       "         0.33333333,  1.        ],\n",
       "       [ 0.58333333,  0.        ,  0.33333333, ...,  0.5       ,\n",
       "         0.33333333,  0.        ],\n",
       "       [ 0.1875    ,  1.        ,  0.66666667, ...,  0.        ,\n",
       "         0.22408027,  0.        ]])"
      ]
     },
     "execution_count": 105,
     "metadata": {},
     "output_type": "execute_result"
    }
   ],
   "source": [
    "# Scale the data using min_max_scaler\n",
    "# More details, check: http://scikit-learn.org/stable/modules/preprocessing.html#scaling-features-to-a-range\n",
    "min_max_scaler = preprocessing.MinMaxScaler()\n",
    "data_minmax = min_max_scaler.fit_transform(data)\n",
    "data_minmax"
   ]
  },
  {
   "cell_type": "code",
   "execution_count": 106,
   "metadata": {},
   "outputs": [
    {
     "data": {
      "text/plain": [
       "array([ 0.02083333,  1.        ,  0.33333333,  0.00943396,  0.00228311,\n",
       "        1.        ,  0.5       ,  0.00763359,  1.        ,  0.16129032,\n",
       "        0.5       ,  0.33333333,  0.25      ])"
      ]
     },
     "execution_count": 106,
     "metadata": {},
     "output_type": "execute_result"
    }
   ],
   "source": [
    "# Check what were the scaler values\n",
    "min_max_scaler.scale_"
   ]
  },
  {
   "cell_type": "code",
   "execution_count": 107,
   "metadata": {},
   "outputs": [
    {
     "data": {
      "text/plain": [
       "array([-0.60416667,  0.        , -0.33333333, -0.88679245, -0.28767123,\n",
       "        0.        ,  0.        , -0.54198473,  0.        ,  0.        ,\n",
       "       -0.5       ,  0.        , -0.75      ])"
      ]
     },
     "execution_count": 107,
     "metadata": {},
     "output_type": "execute_result"
    }
   ],
   "source": [
    "# Check the minimum values\n",
    "min_max_scaler.min_"
   ]
  },
  {
   "cell_type": "code",
   "execution_count": 108,
   "metadata": {},
   "outputs": [
    {
     "data": {
      "text/plain": [
       "array([ 0.529978  ,  0.67986799,  0.71947195,  0.35556386,  0.27555495,\n",
       "        0.14851485,  0.4950495 ,  0.60005543,  0.32673267,  0.16767806,\n",
       "        0.30033003,  0.22408027,  0.43355482])"
      ]
     },
     "execution_count": 108,
     "metadata": {},
     "output_type": "execute_result"
    }
   ],
   "source": [
    "\n",
    "# Calculate the mean values of the scaled dataset\n",
    "data_minmax.mean(axis = 0)"
   ]
  },
  {
   "cell_type": "code",
   "execution_count": 109,
   "metadata": {
    "collapsed": true
   },
   "outputs": [],
   "source": [
    "# Next we are going to split the data into train and test sets.\n",
    "# For more details, check:\n",
    "# http://scikit-learn.org/stable/modules/generated/sklearn.model_selection.train_test_split.html#sklearn.model_selection.train_test_split"
   ]
  },
  {
   "cell_type": "code",
   "execution_count": 110,
   "metadata": {},
   "outputs": [
    {
     "data": {
      "text/plain": [
       "((193, 13), (110, 13), (193,), (110,))"
      ]
     },
     "execution_count": 110,
     "metadata": {},
     "output_type": "execute_result"
    }
   ],
   "source": [
    "\n",
    "# Split the data into train and test sets, leave 36% of the data to testset\n",
    "x_train, x_test, y_train, y_test = train_test_split(\n",
    "    data_minmax, labels, test_size=0.36)\n",
    "\n",
    "# Check the sizes of the variables\n",
    "x_train.shape, x_test.shape, y_train.shape, y_test.shape"
   ]
  },
  {
   "cell_type": "code",
   "execution_count": null,
   "metadata": {
    "collapsed": true
   },
   "outputs": [],
   "source": [
    "# Next we build and train the model.\n",
    "# For more details, check:\n",
    "# https://keras.io/getting-started/sequential-model-guide/\n",
    "\n",
    "model = []\n",
    "model = models.Sequential()\n",
    "model.add(layers.Dense(64, activation = 'relu', input_dim = 13)) \n",
    "# input_dim = 13 \n",
    "# if angiographic data is included\n",
    "model.add(layers.Dense(64, activation = 'relu'))\n",
    "model.add(layers.Dense(1, activation = 'sigmoid'))\n",
    "\n",
    "model.compile(loss = 'binary_crossentropy',\n",
    "              optimizer = 'rmsprop',\n",
    "              metrics = ['accuracy'])\n",
    "\n",
    "# N = number of epochs\n",
    "N = 100\n",
    "h = model.fit(x_train, y_train,\n",
    "              verbose = 0, \n",
    "              epochs = N,\n",
    "              batch_size = 128,\n",
    "              validation_data=(x_test, y_test))"
   ]
  },
  {
   "cell_type": "code",
   "execution_count": null,
   "metadata": {
    "collapsed": true
   },
   "outputs": [],
   "source": [
    "# Plot the results\n",
    "\n",
    "epochs = range(1, N + 1)\n",
    "acc = h.history['acc']\n",
    "val_acc = h.history['val_acc']\n",
    "loss = h.history['loss']\n",
    "val_loss = h.history['val_loss']\n",
    "\n",
    "# Accuracy plot\n",
    "plt.figure(figsize = (20, 5))\n",
    "plt.plot(epochs, acc, 'bo', label='Training')\n",
    "plt.plot(epochs, val_acc, 'b', label = 'Validation')\n",
    "plt.xlabel('Epochs')\n",
    "plt.ylabel('Accuracy')\n",
    "plt.ylim([0, 1])\n",
    "plt.grid()\n",
    "plt.legend()\n",
    "plt.show()\n",
    "\n",
    "# Loss plot\n",
    "plt.figure(figsize = (20, 5))\n",
    "plt.plot(epochs, loss, 'bo', label='Training')\n",
    "plt.plot(epochs, val_loss, 'b', label = 'Validation')\n",
    "plt.xlabel('Epochs')\n",
    "plt.ylabel('Loss')\n",
    "plt.ylim([0.2, 0.8])\n",
    "plt.grid()\n",
    "plt.legend()\n",
    "plt.show()\n",
    "\n",
    "score = model.evaluate(x_test, y_test, batch_size = 128)\n",
    "score"
   ]
  }
 ],
 "metadata": {
  "kernelspec": {
   "display_name": "Python 3",
   "language": "python",
   "name": "python3"
  },
  "language_info": {
   "codemirror_mode": {
    "name": "ipython",
    "version": 3
   },
   "file_extension": ".py",
   "mimetype": "text/x-python",
   "name": "python",
   "nbconvert_exporter": "python",
   "pygments_lexer": "ipython3",
   "version": "3.6.3"
  }
 },
 "nbformat": 4,
 "nbformat_minor": 2
}
